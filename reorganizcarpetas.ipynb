{
 "cells": [
  {
   "cell_type": "code",
   "execution_count": 2,
   "metadata": {},
   "outputs": [
    {
     "name": "stdout",
     "output_type": "stream",
     "text": [
      "La primera carpeta que encontré que contiene una subcarpeta 'artifacts' es: \"https:/s3.console.aws.amazon.com/s3/buckets/april-mlops/mlflow/\"/2/fae3408e4e154b6d9c920f5c510af37b\n",
      "La carpeta \"https:/s3.console.aws.amazon.com/s3/buckets/april-mlops/mlflow/\"/2/fae3408e4e154b6d9c920f5c510af37b/artifacts ha sido copiada a runsMLFLOW/artifacts\n"
     ]
    }
   ],
   "source": [
    "import os\n",
    "import shutil\n",
    "from pathlib import Path\n",
    "\n",
    "def find_first_parent_dir_of_artifacts(top_dir):\n",
    "    for path in Path(top_dir).rglob('artifacts'):\n",
    "        if path.is_dir():\n",
    "            return path.parent\n",
    "    return None\n",
    "\n",
    "def copy_all_subdirectories(parent_dir, destination_dir):\n",
    "    for item in parent_dir.iterdir():\n",
    "        if item.is_dir():\n",
    "            shutil.copytree(item, destination_dir / item.name, dirs_exist_ok=True)\n",
    "            print(f\"La carpeta {item} ha sido copiada a {destination_dir / item.name}\")\n",
    "\n",
    "def main():\n",
    "    top_dir = \"\\\"https:\"  # Reemplaza esto con el nombre de la carpeta superior desde la que quieres empezar a buscar\n",
    "\n",
    "    first_artifacts_parent_dir = find_first_parent_dir_of_artifacts(top_dir)\n",
    "\n",
    "    if first_artifacts_parent_dir:\n",
    "        print(f\"La primera carpeta que encontré que contiene una subcarpeta 'artifacts' es: {first_artifacts_parent_dir}\")\n",
    "\n",
    "        destination_dir = Path('runsMLFLOW')\n",
    "        destination_dir.mkdir(parents=True, exist_ok=True)  # Crear el directorio runsMLFLOW si no existe\n",
    "\n",
    "        copy_all_subdirectories(first_artifacts_parent_dir, destination_dir)\n",
    "    else:\n",
    "        print(\"No encontré ninguna carpeta que contenga una subcarpeta 'artifacts'.\")\n",
    "\n",
    "if __name__ == \"__main__\":\n",
    "    main()\n",
    "\n"
   ]
  },
  {
   "cell_type": "code",
   "execution_count": 11,
   "metadata": {},
   "outputs": [
    {
     "name": "stdout",
     "output_type": "stream",
     "text": [
      "El directorio superior al que contiene 'artifacts' es: \"https:/s3.console.aws.amazon.com/s3/buckets/april-mlops/mlflow/\"\n",
      "La carpeta \"https:/s3.console.aws.amazon.com/s3/buckets/april-mlops/mlflow/\"/2/fae3408e4e154b6d9c920f5c510af37b ha sido copiada a runsMLFLOW/fae3408e4e154b6d9c920f5c510af37b\n",
      "La carpeta \"https:/s3.console.aws.amazon.com/s3/buckets/april-mlops/mlflow/\"/2/fae3408e4e154b6d9c920f5c510af37c ha sido copiada a runsMLFLOW/fae3408e4e154b6d9c920f5c510af37c\n"
     ]
    }
   ],
   "source": [
    "import os\n",
    "from pathlib import Path\n",
    "import shutil\n",
    "\n",
    "def find_first_parent_dir_of_artifacts(top_dir):\n",
    "    for path in Path(top_dir).rglob('artifacts'):\n",
    "        if path.is_dir():\n",
    "            return path.parent.parent.parent  # Tomamos el padre tres veces\n",
    "    return None\n",
    "\n",
    "def copy_all_subdirs_to_new_location(source_dir, destination_dir):\n",
    "    for item in source_dir.iterdir():\n",
    "        if item.is_dir():\n",
    "            shutil.copytree(item, destination_dir / item.name, dirs_exist_ok=True)\n",
    "            print(f\"La carpeta {item} ha sido copiada a {destination_dir / item.name}\")\n",
    "\n",
    "def main():\n",
    "    top_dir = \"\\\"https:\"  # Reemplaza esto con el nombre de la carpeta superior desde la que quieres empezar a buscar\n",
    "\n",
    "    first_artifacts_parent_dir = find_first_parent_dir_of_artifacts(top_dir)\n",
    "\n",
    "    if first_artifacts_parent_dir:\n",
    "        print(f\"El directorio superior al que contiene 'artifacts' es: {first_artifacts_parent_dir}\")\n",
    "\n",
    "        directories = [item for item in first_artifacts_parent_dir.iterdir() if item.is_dir()]\n",
    "\n",
    "        destination_dir = Path('runsMLFLOW')\n",
    "        destination_dir.mkdir(parents=True, exist_ok=True)  # Crear el directorio runsMLFLOW si no existe\n",
    "\n",
    "        for dir in directories:\n",
    "            copy_all_subdirs_to_new_location(dir, destination_dir)\n",
    "\n",
    "    else:\n",
    "        print(\"No encontré ninguna carpeta que contenga una subcarpeta 'artifacts'.\")\n",
    "\n",
    "if __name__ == \"__main__\":\n",
    "    main()\n",
    "\n"
   ]
  }
 ],
 "metadata": {
  "kernelspec": {
   "display_name": "ultralytics",
   "language": "python",
   "name": "python3"
  },
  "language_info": {
   "codemirror_mode": {
    "name": "ipython",
    "version": 3
   },
   "file_extension": ".py",
   "mimetype": "text/x-python",
   "name": "python",
   "nbconvert_exporter": "python",
   "pygments_lexer": "ipython3",
   "version": "3.11.4"
  },
  "orig_nbformat": 4
 },
 "nbformat": 4,
 "nbformat_minor": 2
}
