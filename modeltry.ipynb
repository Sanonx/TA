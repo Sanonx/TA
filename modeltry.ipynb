{
 "cells": [
  {
   "cell_type": "code",
   "execution_count": 2,
   "metadata": {},
   "outputs": [
    {
     "name": "stderr",
     "output_type": "stream",
     "text": [
      "New https://pypi.org/project/ultralytics/8.0.128 available 😃 Update with 'pip install -U ultralytics'\n",
      "Ultralytics YOLOv8.0.123 🚀 Python-3.11.4 torch-2.0.1+cpu CPU\n",
      "\u001b[34m\u001b[1myolo/engine/trainer: \u001b[0mtask=detect, mode=train, model=models/yolov8n.pt, data=coco128.yaml, epochs=2, patience=50, batch=16, imgsz=640, save=True, save_period=-1, cache=False, device=None, workers=8, project=None, name=None, exist_ok=False, pretrained=True, optimizer=auto, verbose=True, seed=0, deterministic=True, single_cls=False, rect=False, cos_lr=False, close_mosaic=0, resume=False, amp=True, fraction=1.0, profile=False, overlap_mask=True, mask_ratio=4, dropout=0.0, val=True, split=val, save_json=False, save_hybrid=False, conf=None, iou=0.7, max_det=300, half=False, dnn=False, plots=True, source=None, show=False, save_txt=False, save_conf=False, save_crop=False, show_labels=True, show_conf=True, vid_stride=1, line_width=None, visualize=False, augment=False, agnostic_nms=False, classes=None, retina_masks=False, boxes=True, format=torchscript, keras=False, optimize=False, int8=False, dynamic=False, simplify=False, opset=None, workspace=4, nms=False, lr0=0.01, lrf=0.01, momentum=0.937, weight_decay=0.0005, warmup_epochs=3.0, warmup_momentum=0.8, warmup_bias_lr=0.1, box=7.5, cls=0.5, dfl=1.5, pose=12.0, kobj=1.0, label_smoothing=0.0, nbs=64, hsv_h=0.015, hsv_s=0.7, hsv_v=0.4, degrees=0.0, translate=0.1, scale=0.5, shear=0.0, perspective=0.0, flipud=0.0, fliplr=0.5, mosaic=1.0, mixup=0.0, copy_paste=0.0, cfg=None, v5loader=False, tracker=botsort.yaml, save_dir=runs/detect/train74\n",
      "\n",
      "                   from  n    params  module                                       arguments                     \n",
      "  0                  -1  1       464  ultralytics.nn.modules.conv.Conv             [3, 16, 3, 2]                 \n",
      "  1                  -1  1      4672  ultralytics.nn.modules.conv.Conv             [16, 32, 3, 2]                \n",
      "  2                  -1  1      7360  ultralytics.nn.modules.block.C2f             [32, 32, 1, True]             \n",
      "  3                  -1  1     18560  ultralytics.nn.modules.conv.Conv             [32, 64, 3, 2]                \n",
      "  4                  -1  2     49664  ultralytics.nn.modules.block.C2f             [64, 64, 2, True]             \n",
      "  5                  -1  1     73984  ultralytics.nn.modules.conv.Conv             [64, 128, 3, 2]               \n",
      "  6                  -1  2    197632  ultralytics.nn.modules.block.C2f             [128, 128, 2, True]           \n",
      "  7                  -1  1    295424  ultralytics.nn.modules.conv.Conv             [128, 256, 3, 2]              \n",
      "  8                  -1  1    460288  ultralytics.nn.modules.block.C2f             [256, 256, 1, True]           \n",
      "  9                  -1  1    164608  ultralytics.nn.modules.block.SPPF            [256, 256, 5]                 \n",
      " 10                  -1  1         0  torch.nn.modules.upsampling.Upsample         [None, 2, 'nearest']          \n",
      " 11             [-1, 6]  1         0  ultralytics.nn.modules.conv.Concat           [1]                           \n",
      " 12                  -1  1    148224  ultralytics.nn.modules.block.C2f             [384, 128, 1]                 \n",
      " 13                  -1  1         0  torch.nn.modules.upsampling.Upsample         [None, 2, 'nearest']          \n",
      " 14             [-1, 4]  1         0  ultralytics.nn.modules.conv.Concat           [1]                           \n",
      " 15                  -1  1     37248  ultralytics.nn.modules.block.C2f             [192, 64, 1]                  \n",
      " 16                  -1  1     36992  ultralytics.nn.modules.conv.Conv             [64, 64, 3, 2]                \n",
      " 17            [-1, 12]  1         0  ultralytics.nn.modules.conv.Concat           [1]                           \n",
      " 18                  -1  1    123648  ultralytics.nn.modules.block.C2f             [192, 128, 1]                 \n",
      " 19                  -1  1    147712  ultralytics.nn.modules.conv.Conv             [128, 128, 3, 2]              \n",
      " 20             [-1, 9]  1         0  ultralytics.nn.modules.conv.Concat           [1]                           \n",
      " 21                  -1  1    493056  ultralytics.nn.modules.block.C2f             [384, 256, 1]                 \n",
      " 22        [15, 18, 21]  1    897664  ultralytics.nn.modules.head.Detect           [80, [64, 128, 256]]          \n",
      "Model summary: 225 layers, 3157200 parameters, 3157184 gradients\n",
      "\n",
      "Transferred 355/355 items from pretrained weights\n",
      "\u001b[34m\u001b[1mtrain: \u001b[0mScanning /home/santos.urones/TeamAware/datasets/coco128/labels/train2017.cache... 126 images, 2 backgrounds, 0 corrupt: 100%|██████████| 128/128 [00:00<?, ?it/s]\n",
      "\u001b[34m\u001b[1mval: \u001b[0mScanning /home/santos.urones/TeamAware/datasets/coco128/labels/train2017.cache... 126 images, 2 backgrounds, 0 corrupt: 100%|██████████| 128/128 [00:00<?, ?it/s]\n",
      "Plotting labels to runs/detect/train74/labels.jpg... \n",
      "\u001b[34m\u001b[1moptimizer:\u001b[0m AdamW(lr=0.000119, momentum=0.9) with parameter groups 57 weight(decay=0.0), 64 weight(decay=0.0005), 63 bias(decay=0.0)\n",
      "\u001b[34m\u001b[1mMLFlow: \u001b[0mUsing run_id(530667eb57b6410e8c912eb6cade62a0) at http://localhost:5000\n",
      "Image sizes 640 train, 640 val\n",
      "Using 0 dataloader workers\n",
      "Logging results to \u001b[1mruns/detect/train74\u001b[0m\n",
      "Starting training for 2 epochs...\n",
      "\n",
      "      Epoch    GPU_mem   box_loss   cls_loss   dfl_loss  Instances       Size\n",
      "        1/2         0G      1.041      1.685      1.236        157        640:  12%|█▎        | 1/8 [00:19<02:15, 19.42s/it]"
     ]
    },
    {
     "ename": "",
     "evalue": "",
     "output_type": "error",
     "traceback": [
      "\u001b[1;31mCannot execute code, session has been disposed. Please try restarting the Kernel."
     ]
    },
    {
     "ename": "",
     "evalue": "",
     "output_type": "error",
     "traceback": [
      "\u001b[1;31mThe Kernel crashed while executing code in the the current cell or a previous cell. Please review the code in the cell(s) to identify a possible cause of the failure. Click <a href='https://aka.ms/vscodeJupyterKernelCrash'>here</a> for more info. View Jupyter <a href='command:jupyter.viewOutput'>log</a> for further details."
     ]
    }
   ],
   "source": [
    "import os\n",
    "import mlflow\n",
    "from random import random, randint\n",
    "from mlflow import log_metric, log_param, log_params, log_artifacts\n",
    "from ultralytics import YOLO\n",
    "from ultralytics.yolo.utils.loss import FocalLoss\n",
    "from ultralytics.yolo.utils.callbacks.mlflow import callbacks, on_fit_epoch_end, on_pretrain_routine_end, on_train_end\n",
    "\n",
    "os.environ[\"MLFLOW_TRACKING_URI\"] = \"http://localhost:5000\"\n",
    "os.environ[\"MLFLOW_EXPERIMENT\"] = \"experimento_yolo2\"\n",
    "\n",
    "# Callback para registrar las métricas con MLflow\n",
    "def log_metrics_to_mlflow(metrics):\n",
    "    for metric_name, metric_value in metrics.items():\n",
    "        mlflow.log_metric(metric_name, metric_value)\n",
    "\n",
    "if __name__ == \"__main__\":\n",
    "    \n",
    "    # Iniciar el registro de MLflow\n",
    "    mlflow.start_run()\n",
    "\n",
    "    # Crear una instancia de tu modelo\n",
    "    model = YOLO(\"models/yolov8n.pt\")\n",
    "\n",
    "    # Crear instancia de la pérdida focal\n",
    "    focal_loss = FocalLoss()\n",
    "\n",
    "    # Asignar la pérdida focal al modelo\n",
    "    model.loss = focal_loss\n",
    "\n",
    "    # Añadir el callback a tu modelo\n",
    "    # Agrega tus funciones de callback al modelo\n",
    "    model.add_callback('on_pretrain_routine_end', on_pretrain_routine_end)\n",
    "    model.add_callback('on_fit_epoch_end', on_fit_epoch_end)\n",
    "    model.add_callback('on_train_end', on_train_end)\n",
    "\n",
    "    # Entrenar el modelo\n",
    "    results = model.train(data='coco128.yaml', epochs=2)\n",
    "\n",
    "    # Finalizar el registro de MLflow\n",
    "    mlflow.end_run()\n"
   ]
  },
  {
   "attachments": {},
   "cell_type": "markdown",
   "metadata": {},
   "source": []
  },
  {
   "cell_type": "code",
   "execution_count": 43,
   "metadata": {},
   "outputs": [
    {
     "data": {
      "text/plain": [
       "defaultdict(list,\n",
       "            {'on_pretrain_routine_start': [<function ultralytics.yolo.utils.callbacks.base.on_pretrain_routine_start(trainer)>],\n",
       "             'on_pretrain_routine_end': <function ultralytics.yolo.utils.callbacks.mlflow.on_pretrain_routine_end(trainer)>,\n",
       "             'on_train_start': [<function ultralytics.yolo.utils.callbacks.base.on_train_start(trainer)>],\n",
       "             'on_train_epoch_start': [<function ultralytics.yolo.utils.callbacks.base.on_train_epoch_start(trainer)>],\n",
       "             'on_train_batch_start': [<function ultralytics.yolo.utils.callbacks.base.on_train_batch_start(trainer)>],\n",
       "             'optimizer_step': [<function ultralytics.yolo.utils.callbacks.base.optimizer_step(trainer)>],\n",
       "             'on_before_zero_grad': [<function ultralytics.yolo.utils.callbacks.base.on_before_zero_grad(trainer)>],\n",
       "             'on_train_batch_end': [<function ultralytics.yolo.utils.callbacks.base.on_train_batch_end(trainer)>],\n",
       "             'on_train_epoch_end': [<function ultralytics.yolo.utils.callbacks.base.on_train_epoch_end(trainer)>],\n",
       "             'on_fit_epoch_end': <function ultralytics.yolo.utils.callbacks.mlflow.on_fit_epoch_end(trainer)>,\n",
       "             'on_model_save': [<function ultralytics.yolo.utils.callbacks.base.on_model_save(trainer)>],\n",
       "             'on_train_end': <function ultralytics.yolo.utils.callbacks.mlflow.on_train_end(trainer)>,\n",
       "             'on_params_update': [<function ultralytics.yolo.utils.callbacks.base.on_params_update(trainer)>],\n",
       "             'teardown': [<function ultralytics.yolo.utils.callbacks.base.teardown(trainer)>],\n",
       "             'on_val_start': [<function ultralytics.yolo.utils.callbacks.base.on_val_start(validator)>],\n",
       "             'on_val_batch_start': [<function ultralytics.yolo.utils.callbacks.base.on_val_batch_start(validator)>],\n",
       "             'on_val_batch_end': [<function ultralytics.yolo.utils.callbacks.base.on_val_batch_end(validator)>],\n",
       "             'on_val_end': [<function ultralytics.yolo.utils.callbacks.base.on_val_end(validator)>],\n",
       "             'on_predict_start': [<function ultralytics.yolo.utils.callbacks.base.on_predict_start(predictor)>],\n",
       "             'on_predict_batch_start': [<function ultralytics.yolo.utils.callbacks.base.on_predict_batch_start(predictor)>],\n",
       "             'on_predict_postprocess_end': [<function ultralytics.yolo.utils.callbacks.base.on_predict_postprocess_end(predictor)>],\n",
       "             'on_predict_batch_end': [<function ultralytics.yolo.utils.callbacks.base.on_predict_batch_end(predictor)>],\n",
       "             'on_predict_end': [<function ultralytics.yolo.utils.callbacks.base.on_predict_end(predictor)>],\n",
       "             'on_export_start': [<function ultralytics.yolo.utils.callbacks.base.on_export_start(exporter)>],\n",
       "             'on_export_end': [<function ultralytics.yolo.utils.callbacks.base.on_export_end(exporter)>]})"
      ]
     },
     "execution_count": 43,
     "metadata": {},
     "output_type": "execute_result"
    }
   ],
   "source": [
    "#### test\n",
    "from ultralytics.yolo.utils.callbacks.mlflow import callbacks\n",
    "\n",
    "model.callbacks.update(callbacks)\n",
    "model.callbacks\n"
   ]
  },
  {
   "cell_type": "code",
   "execution_count": 38,
   "metadata": {},
   "outputs": [
    {
     "ename": "AttributeError",
     "evalue": "'YOLO' object has no attribute 'matrix'. See valid attributes below.\n\n    YOLO (You Only Look Once) object detection model.\n\n    Args:\n        model (str, Path): Path to the model file to load or create.\n        task (Any, optional): Task type for the YOLO model. Defaults to None.\n\n    Attributes:\n        predictor (Any): The predictor object.\n        model (Any): The model object.\n        trainer (Any): The trainer object.\n        task (str): The type of model task.\n        ckpt (Any): The checkpoint object if the model loaded from *.pt file.\n        cfg (str): The model configuration if loaded from *.yaml file.\n        ckpt_path (str): The checkpoint file path.\n        overrides (dict): Overrides for the trainer object.\n        metrics (Any): The data for metrics.\n\n    Methods:\n        __call__(source=None, stream=False, **kwargs):\n            Alias for the predict method.\n        _new(cfg:str, verbose:bool=True) -> None:\n            Initializes a new model and infers the task type from the model definitions.\n        _load(weights:str, task:str='') -> None:\n            Initializes a new model and infers the task type from the model head.\n        _check_is_pytorch_model() -> None:\n            Raises TypeError if the model is not a PyTorch model.\n        reset() -> None:\n            Resets the model modules.\n        info(verbose:bool=False) -> None:\n            Logs the model info.\n        fuse() -> None:\n            Fuses the model for faster inference.\n        predict(source=None, stream=False, **kwargs) -> List[ultralytics.yolo.engine.results.Results]:\n            Performs prediction using the YOLO model.\n\n    Returns:\n        list(ultralytics.yolo.engine.results.Results): The prediction results.\n    ",
     "output_type": "error",
     "traceback": [
      "\u001b[0;31m---------------------------------------------------------------------------\u001b[0m",
      "\u001b[0;31mAttributeError\u001b[0m                            Traceback (most recent call last)",
      "Cell \u001b[0;32mIn[38], line 1\u001b[0m\n\u001b[0;32m----> 1\u001b[0m model\u001b[39m.\u001b[39;49mmatrix()\n",
      "File \u001b[0;32m~/miniconda3/envs/ultralytics/lib/python3.11/site-packages/ultralytics/yolo/engine/model.py:116\u001b[0m, in \u001b[0;36mYOLO.__getattr__\u001b[0;34m(self, attr)\u001b[0m\n\u001b[1;32m    114\u001b[0m \u001b[39m\u001b[39m\u001b[39m\"\"\"Raises error if object has no requested attribute.\"\"\"\u001b[39;00m\n\u001b[1;32m    115\u001b[0m name \u001b[39m=\u001b[39m \u001b[39mself\u001b[39m\u001b[39m.\u001b[39m\u001b[39m__class__\u001b[39m\u001b[39m.\u001b[39m\u001b[39m__name__\u001b[39m\n\u001b[0;32m--> 116\u001b[0m \u001b[39mraise\u001b[39;00m \u001b[39mAttributeError\u001b[39;00m(\u001b[39mf\u001b[39m\u001b[39m\"\u001b[39m\u001b[39m'\u001b[39m\u001b[39m{\u001b[39;00mname\u001b[39m}\u001b[39;00m\u001b[39m'\u001b[39m\u001b[39m object has no attribute \u001b[39m\u001b[39m'\u001b[39m\u001b[39m{\u001b[39;00mattr\u001b[39m}\u001b[39;00m\u001b[39m'\u001b[39m\u001b[39m. See valid attributes below.\u001b[39m\u001b[39m\\n\u001b[39;00m\u001b[39m{\u001b[39;00m\u001b[39mself\u001b[39m\u001b[39m.\u001b[39m\u001b[39m__doc__\u001b[39m\u001b[39m}\u001b[39;00m\u001b[39m\"\u001b[39m)\n",
      "\u001b[0;31mAttributeError\u001b[0m: 'YOLO' object has no attribute 'matrix'. See valid attributes below.\n\n    YOLO (You Only Look Once) object detection model.\n\n    Args:\n        model (str, Path): Path to the model file to load or create.\n        task (Any, optional): Task type for the YOLO model. Defaults to None.\n\n    Attributes:\n        predictor (Any): The predictor object.\n        model (Any): The model object.\n        trainer (Any): The trainer object.\n        task (str): The type of model task.\n        ckpt (Any): The checkpoint object if the model loaded from *.pt file.\n        cfg (str): The model configuration if loaded from *.yaml file.\n        ckpt_path (str): The checkpoint file path.\n        overrides (dict): Overrides for the trainer object.\n        metrics (Any): The data for metrics.\n\n    Methods:\n        __call__(source=None, stream=False, **kwargs):\n            Alias for the predict method.\n        _new(cfg:str, verbose:bool=True) -> None:\n            Initializes a new model and infers the task type from the model definitions.\n        _load(weights:str, task:str='') -> None:\n            Initializes a new model and infers the task type from the model head.\n        _check_is_pytorch_model() -> None:\n            Raises TypeError if the model is not a PyTorch model.\n        reset() -> None:\n            Resets the model modules.\n        info(verbose:bool=False) -> None:\n            Logs the model info.\n        fuse() -> None:\n            Fuses the model for faster inference.\n        predict(source=None, stream=False, **kwargs) -> List[ultralytics.yolo.engine.results.Results]:\n            Performs prediction using the YOLO model.\n\n    Returns:\n        list(ultralytics.yolo.engine.results.Results): The prediction results.\n    "
     ]
    }
   ],
   "source": [
    "model"
   ]
  }
 ],
 "metadata": {
  "kernelspec": {
   "display_name": "ultralytics",
   "language": "python",
   "name": "python3"
  },
  "language_info": {
   "codemirror_mode": {
    "name": "ipython",
    "version": 3
   },
   "file_extension": ".py",
   "mimetype": "text/x-python",
   "name": "python",
   "nbconvert_exporter": "python",
   "pygments_lexer": "ipython3",
   "version": "3.11.4"
  },
  "orig_nbformat": 4
 },
 "nbformat": 4,
 "nbformat_minor": 2
}
