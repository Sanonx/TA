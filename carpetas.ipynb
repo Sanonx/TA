{
 "cells": [
  {
   "cell_type": "code",
   "execution_count": 2,
   "id": "9e11c247-10d5-451d-aff1-18c8dd056495",
   "metadata": {},
   "outputs": [],
   "source": [
    "import os\n",
    "import shutil\n",
    "\n",
    "# Ruta del directorio original que contiene las carpetas y archivos\n",
    "directorio_original = 'Data'\n",
    "\n",
    "# Ruta del directorio donde deseas crear las carpetas vacías\n",
    "directorio_destino = 'CleanData'\n",
    "\n",
    "# Obtener la lista de carpetas del directorio original\n",
    "carpetas_originales = [nombre_carpeta for nombre_carpeta in os.listdir(directorio_original) if os.path.isdir(os.path.join(directorio_original, nombre_carpeta))]\n",
    "\n",
    "# Crear las mismas carpetas vacías en el directorio de destino\n",
    "for carpeta in carpetas_originales:\n",
    "    ruta_carpeta_origen = os.path.join(directorio_original, carpeta)\n",
    "    ruta_carpeta_destino = os.path.join(directorio_destino, carpeta)\n",
    "    os.makedirs(ruta_carpeta_destino)\n"
   ]
  },
  {
   "cell_type": "code",
   "execution_count": null,
   "id": "8ae060fa-bd47-4179-8e88-989966a63b14",
   "metadata": {},
   "outputs": [],
   "source": []
  }
 ],
 "metadata": {
  "kernelspec": {
   "display_name": "Python 3 (ipykernel)",
   "language": "python",
   "name": "python3"
  },
  "language_info": {
   "codemirror_mode": {
    "name": "ipython",
    "version": 3
   },
   "file_extension": ".py",
   "mimetype": "text/x-python",
   "name": "python",
   "nbconvert_exporter": "python",
   "pygments_lexer": "ipython3",
   "version": "3.11.3"
  }
 },
 "nbformat": 4,
 "nbformat_minor": 5
}
