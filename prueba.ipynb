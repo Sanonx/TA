{
 "cells": [
  {
   "cell_type": "code",
   "execution_count": 14,
   "metadata": {},
   "outputs": [
    {
     "name": "stderr",
     "output_type": "stream",
     "text": [
      "\n",
      "image 1/1 /home/santos.urones/TeamAware/CleanData/BACKPACK/images/train/00b1f2453de4f12c_jpg.rf.e3b94a9b4d3a4181606d33c7cfa4e969.jpg: 640x384 3 persons, 58.2ms\n",
      "Speed: 2.2ms preprocess, 58.2ms inference, 0.7ms postprocess per image at shape (1, 3, 640, 640)\n"
     ]
    },
    {
     "data": {
      "text/plain": [
       "array([[[ 93, 101, 114],\n",
       "        [ 93, 101, 114],\n",
       "        [ 93, 101, 114],\n",
       "        ...,\n",
       "        [ 85,  88,  93],\n",
       "        [ 85,  88,  93],\n",
       "        [ 85,  88,  93]],\n",
       "\n",
       "       [[ 92, 100, 113],\n",
       "        [ 92, 100, 113],\n",
       "        [ 92, 100, 113],\n",
       "        ...,\n",
       "        [ 85,  88,  93],\n",
       "        [ 85,  88,  93],\n",
       "        [ 85,  88,  93]],\n",
       "\n",
       "       [[ 91,  99, 112],\n",
       "        [ 91,  99, 112],\n",
       "        [ 91,  99, 112],\n",
       "        ...,\n",
       "        [ 85,  88,  93],\n",
       "        [ 85,  88,  93],\n",
       "        [ 85,  88,  93]],\n",
       "\n",
       "       ...,\n",
       "\n",
       "       [[ 89,  85,  80],\n",
       "        [ 89,  85,  80],\n",
       "        [ 88,  85,  80],\n",
       "        ...,\n",
       "        [ 56,  56, 255],\n",
       "        [142, 155, 201],\n",
       "        [168, 186, 187]],\n",
       "\n",
       "       [[ 89,  85,  80],\n",
       "        [ 89,  85,  80],\n",
       "        [ 88,  85,  80],\n",
       "        ...,\n",
       "        [ 56,  56, 255],\n",
       "        [141, 154, 201],\n",
       "        [167, 185, 186]],\n",
       "\n",
       "       [[ 89,  85,  80],\n",
       "        [ 89,  85,  80],\n",
       "        [ 88,  85,  80],\n",
       "        ...,\n",
       "        [ 56,  56, 255],\n",
       "        [126, 137, 211],\n",
       "        [166, 184, 185]]], dtype=uint8)"
      ]
     },
     "execution_count": 14,
     "metadata": {},
     "output_type": "execute_result"
    }
   ],
   "source": [
    "from ultralytics import YOLO\n",
    "import matplotlib.pyplot as plt\n",
    "\n",
    "model = YOLO(\"models/yolov8n.pt\")\n",
    "\n",
    "# Perform prediction on the image\n",
    "image_path = 'CleanData/BACKPACK/images/train/00b1f2453de4f12c_jpg.rf.e3b94a9b4d3a4181606d33c7cfa4e969.jpg'\n",
    "results = model.predict(image_path, save=False)\n",
    "# Plot the results on the image\n",
    "results[0].plot()"
   ]
  },
  {
   "cell_type": "code",
   "execution_count": null,
   "metadata": {},
   "outputs": [],
   "source": []
  }
 ],
 "metadata": {
  "kernelspec": {
   "display_name": "Python 3 (ipykernel)",
   "language": "python",
   "name": "python3"
  },
  "language_info": {
   "codemirror_mode": {
    "name": "ipython",
    "version": 3
   },
   "file_extension": ".py",
   "mimetype": "text/x-python",
   "name": "python",
   "nbconvert_exporter": "python",
   "pygments_lexer": "ipython3",
   "version": "3.11.4"
  }
 },
 "nbformat": 4,
 "nbformat_minor": 4
}
